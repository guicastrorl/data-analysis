{
 "cells": [
  {
   "cell_type": "markdown",
   "metadata": {},
   "source": [
    "# Desafio SMARKIO"
   ]
  },
  {
   "cell_type": "markdown",
   "metadata": {},
   "source": [
    "Para o desenvolvimento desse desafio, irei dividí-lo em cinco etapas:\n",
    "* Obtenção dos Dados\n",
    "* Exploração dos Dados\n",
    "* Preparação dos Dados\n",
    "* Modelagem\n",
    "* Avaliação"
   ]
  },
  {
   "cell_type": "markdown",
   "metadata": {},
   "source": [
    "## 1. Análise exploratória dos dados utilizando estatística descritiva e inferencial considerando uma, duas e/ou mais variáveis."
   ]
  },
  {
   "cell_type": "markdown",
   "metadata": {},
   "source": [
    "Para responder essa questão, o primeiro passo a se dar é importar as bibliotecas necessárias e carregar os datasets para dentro do notebook. "
   ]
  },
  {
   "cell_type": "code",
   "execution_count": 1,
   "metadata": {},
   "outputs": [],
   "source": [
    "# Importando as bibliotecas\n",
    "import pandas as pd\n",
    "import numpy as np\n",
    "import seaborn as sns\n",
    "import matplotlib.pyplot as plt\n",
    "import warnings\n",
    "\n",
    "warnings.filterwarnings('ignore')"
   ]
  },
  {
   "cell_type": "code",
   "execution_count": 2,
   "metadata": {},
   "outputs": [],
   "source": [
    "# Carregando o dataset da primeira aba\n",
    "xls = pd.ExcelFile('teste_smarkio_lbs.xls')\n",
    "df1 = pd.read_excel(xls, sheet_name='Análise_ML')"
   ]
  },
  {
   "cell_type": "code",
   "execution_count": 3,
   "metadata": {},
   "outputs": [
    {
     "data": {
      "text/html": [
       "<div>\n",
       "<style scoped>\n",
       "    .dataframe tbody tr th:only-of-type {\n",
       "        vertical-align: middle;\n",
       "    }\n",
       "\n",
       "    .dataframe tbody tr th {\n",
       "        vertical-align: top;\n",
       "    }\n",
       "\n",
       "    .dataframe thead th {\n",
       "        text-align: right;\n",
       "    }\n",
       "</style>\n",
       "<table border=\"1\" class=\"dataframe\">\n",
       "  <thead>\n",
       "    <tr style=\"text-align: right;\">\n",
       "      <th></th>\n",
       "      <th>Pred_class</th>\n",
       "      <th>probabilidade</th>\n",
       "      <th>status</th>\n",
       "      <th>True_class</th>\n",
       "    </tr>\n",
       "  </thead>\n",
       "  <tbody>\n",
       "    <tr>\n",
       "      <th>0</th>\n",
       "      <td>2</td>\n",
       "      <td>0.079892</td>\n",
       "      <td>approved</td>\n",
       "      <td>0.0</td>\n",
       "    </tr>\n",
       "    <tr>\n",
       "      <th>1</th>\n",
       "      <td>2</td>\n",
       "      <td>0.379377</td>\n",
       "      <td>approved</td>\n",
       "      <td>74.0</td>\n",
       "    </tr>\n",
       "    <tr>\n",
       "      <th>2</th>\n",
       "      <td>2</td>\n",
       "      <td>0.379377</td>\n",
       "      <td>approved</td>\n",
       "      <td>74.0</td>\n",
       "    </tr>\n",
       "    <tr>\n",
       "      <th>3</th>\n",
       "      <td>2</td>\n",
       "      <td>0.420930</td>\n",
       "      <td>approved</td>\n",
       "      <td>74.0</td>\n",
       "    </tr>\n",
       "    <tr>\n",
       "      <th>4</th>\n",
       "      <td>2</td>\n",
       "      <td>0.607437</td>\n",
       "      <td>approved</td>\n",
       "      <td>NaN</td>\n",
       "    </tr>\n",
       "  </tbody>\n",
       "</table>\n",
       "</div>"
      ],
      "text/plain": [
       "   Pred_class  probabilidade    status  True_class\n",
       "0           2       0.079892  approved         0.0\n",
       "1           2       0.379377  approved        74.0\n",
       "2           2       0.379377  approved        74.0\n",
       "3           2       0.420930  approved        74.0\n",
       "4           2       0.607437  approved         NaN"
      ]
     },
     "execution_count": 3,
     "metadata": {},
     "output_type": "execute_result"
    }
   ],
   "source": [
    "# Visualizando se o dataset foi carregado corretamente\n",
    "df1.head()"
   ]
  },
  {
   "cell_type": "code",
   "execution_count": 4,
   "metadata": {},
   "outputs": [
    {
     "data": {
      "text/html": [
       "<div>\n",
       "<style scoped>\n",
       "    .dataframe tbody tr th:only-of-type {\n",
       "        vertical-align: middle;\n",
       "    }\n",
       "\n",
       "    .dataframe tbody tr th {\n",
       "        vertical-align: top;\n",
       "    }\n",
       "\n",
       "    .dataframe thead th {\n",
       "        text-align: right;\n",
       "    }\n",
       "</style>\n",
       "<table border=\"1\" class=\"dataframe\">\n",
       "  <thead>\n",
       "    <tr style=\"text-align: right;\">\n",
       "      <th></th>\n",
       "      <th>Pred_class</th>\n",
       "      <th>probabilidade</th>\n",
       "      <th>True_class</th>\n",
       "    </tr>\n",
       "  </thead>\n",
       "  <tbody>\n",
       "    <tr>\n",
       "      <th>count</th>\n",
       "      <td>643.000000</td>\n",
       "      <td>643.000000</td>\n",
       "      <td>181.000000</td>\n",
       "    </tr>\n",
       "    <tr>\n",
       "      <th>mean</th>\n",
       "      <td>52.712286</td>\n",
       "      <td>0.622436</td>\n",
       "      <td>38.574586</td>\n",
       "    </tr>\n",
       "    <tr>\n",
       "      <th>std</th>\n",
       "      <td>37.602068</td>\n",
       "      <td>0.266811</td>\n",
       "      <td>39.581017</td>\n",
       "    </tr>\n",
       "    <tr>\n",
       "      <th>min</th>\n",
       "      <td>2.000000</td>\n",
       "      <td>0.043858</td>\n",
       "      <td>0.000000</td>\n",
       "    </tr>\n",
       "    <tr>\n",
       "      <th>25%</th>\n",
       "      <td>12.000000</td>\n",
       "      <td>0.408017</td>\n",
       "      <td>0.000000</td>\n",
       "    </tr>\n",
       "    <tr>\n",
       "      <th>50%</th>\n",
       "      <td>59.000000</td>\n",
       "      <td>0.616809</td>\n",
       "      <td>24.000000</td>\n",
       "    </tr>\n",
       "    <tr>\n",
       "      <th>75%</th>\n",
       "      <td>81.000000</td>\n",
       "      <td>0.870083</td>\n",
       "      <td>74.000000</td>\n",
       "    </tr>\n",
       "    <tr>\n",
       "      <th>max</th>\n",
       "      <td>118.000000</td>\n",
       "      <td>1.000000</td>\n",
       "      <td>117.000000</td>\n",
       "    </tr>\n",
       "  </tbody>\n",
       "</table>\n",
       "</div>"
      ],
      "text/plain": [
       "       Pred_class  probabilidade  True_class\n",
       "count  643.000000     643.000000  181.000000\n",
       "mean    52.712286       0.622436   38.574586\n",
       "std     37.602068       0.266811   39.581017\n",
       "min      2.000000       0.043858    0.000000\n",
       "25%     12.000000       0.408017    0.000000\n",
       "50%     59.000000       0.616809   24.000000\n",
       "75%     81.000000       0.870083   74.000000\n",
       "max    118.000000       1.000000  117.000000"
      ]
     },
     "execution_count": 4,
     "metadata": {},
     "output_type": "execute_result"
    }
   ],
   "source": [
    "# Visualizando uma análise estatística básica\n",
    "df1.describe()"
   ]
  },
  {
   "cell_type": "markdown",
   "metadata": {},
   "source": [
    "Com a descrição dos dados acima, é possível definir o scopo das variáveis que tangem o problema. Sendo **'Pred_class'**, **'True_class'** e **'probabilidade'** definidas como variáveis quatitativas e **'status'** como variável qualitativa."
   ]
  },
  {
   "cell_type": "code",
   "execution_count": 5,
   "metadata": {},
   "outputs": [
    {
     "name": "stdout",
     "output_type": "stream",
     "text": [
      "O número de colunas do dataset é:\t 4\n",
      "O numero de linhas do dataset é:\t 643\n"
     ]
    }
   ],
   "source": [
    "# Visualizando número de linhas e colunas\n",
    "print('O número de colunas do dataset é:\\t', df1.shape[1])\n",
    "print('O numero de linhas do dataset é:\\t', df1.shape[0])"
   ]
  },
  {
   "cell_type": "code",
   "execution_count": 6,
   "metadata": {},
   "outputs": [
    {
     "name": "stdout",
     "output_type": "stream",
     "text": [
      "<class 'pandas.core.frame.DataFrame'>\n",
      "RangeIndex: 643 entries, 0 to 642\n",
      "Data columns (total 4 columns):\n",
      " #   Column         Non-Null Count  Dtype  \n",
      "---  ------         --------------  -----  \n",
      " 0   Pred_class     643 non-null    int64  \n",
      " 1   probabilidade  643 non-null    float64\n",
      " 2   status         643 non-null    object \n",
      " 3   True_class     181 non-null    float64\n",
      "dtypes: float64(2), int64(1), object(1)\n",
      "memory usage: 20.2+ KB\n"
     ]
    }
   ],
   "source": [
    "# Visualizando algumas informações importantes do dataset\n",
    "df1.info()"
   ]
  },
  {
   "cell_type": "markdown",
   "metadata": {},
   "source": [
    "Foi possível observar até aqui, que a coluna **'True_class'**, possui alguns campos com dados nulos. Como dito no enunciado do desafio, esses campos nulos serão preenchidos com os valores correspondentes de **'Pred_class'**."
   ]
  },
  {
   "cell_type": "code",
   "execution_count": 7,
   "metadata": {},
   "outputs": [],
   "source": [
    "# Substituindo valores nulos em 'True_class' iguais a 'Pred_class'\n",
    "df1['True_class'].fillna(df1['Pred_class'], inplace = True)"
   ]
  },
  {
   "cell_type": "code",
   "execution_count": 8,
   "metadata": {},
   "outputs": [
    {
     "name": "stdout",
     "output_type": "stream",
     "text": [
      "<class 'pandas.core.frame.DataFrame'>\n",
      "RangeIndex: 643 entries, 0 to 642\n",
      "Data columns (total 4 columns):\n",
      " #   Column         Non-Null Count  Dtype  \n",
      "---  ------         --------------  -----  \n",
      " 0   Pred_class     643 non-null    int64  \n",
      " 1   probabilidade  643 non-null    float64\n",
      " 2   status         643 non-null    object \n",
      " 3   True_class     643 non-null    float64\n",
      "dtypes: float64(2), int64(1), object(1)\n",
      "memory usage: 20.2+ KB\n"
     ]
    }
   ],
   "source": [
    "# Checando para confirmar o preenchimento\n",
    "df1.info()"
   ]
  },
  {
   "cell_type": "markdown",
   "metadata": {},
   "source": [
    "Nota-se, porém, que os valores da coluna **'True_class'** se apresentam como *float*, no entanto, podem ser apresentados como *int*."
   ]
  },
  {
   "cell_type": "code",
   "execution_count": 9,
   "metadata": {},
   "outputs": [],
   "source": [
    "# Transformando os valores da coluna 'True_class' para int\n",
    "df1['True_class'] = df1['True_class'].astype(int)"
   ]
  },
  {
   "cell_type": "code",
   "execution_count": 10,
   "metadata": {},
   "outputs": [
    {
     "data": {
      "text/plain": [
       "approved    600\n",
       "revision     43\n",
       "Name: status, dtype: int64"
      ]
     },
     "execution_count": 10,
     "metadata": {},
     "output_type": "execute_result"
    }
   ],
   "source": [
    "# Descobrindo o que contém a coluna 'status'\n",
    "df1['status'].value_counts()"
   ]
  },
  {
   "cell_type": "code",
   "execution_count": 11,
   "metadata": {},
   "outputs": [
    {
     "data": {
      "image/png": "[encoded data removed]",
      "text/plain": [
       "<Figure size 432x288 with 1 Axes>"
      ]
     },
     "metadata": {},
     "output_type": "display_data"
    }
   ],
   "source": [
    "# Mostrando a porcentagem de valores em 'approved' e em 'revision'\n",
    "df1.status.value_counts().plot(kind = 'pie', autopct = '%.2f%%')\n",
    "plt.axis('equal');"
   ]
  },
  {
   "cell_type": "markdown",
   "metadata": {},
   "source": [
    "Do gráfico acima, é possível concluir que a maioria (93,31%) dos dados estão como 'approved'."
   ]
  },
  {
   "cell_type": "markdown",
   "metadata": {},
   "source": [
    "Para facilitar uma possível identificação de igualdade entre as colunas **'True_class'** e **'Pred_class'**, criarei uma coluna chama **'success'**, com valores binários, sendo 1 para o caso de sucesso, ou seja, **'Pred_class'** é igual a **'True_class'** e 0 para o caso de não-sucesso, ou seja, **'Pred_class'** é diferente de **'True_class'**."
   ]
  },
  {
   "cell_type": "code",
   "execution_count": 12,
   "metadata": {},
   "outputs": [],
   "source": [
    "# Criando a coluna 'success'\n",
    "df1['success'] = 'NaN'\n",
    "\n",
    "for index, row in df1.iterrows():\n",
    "    if row['Pred_class'] == row['True_class']:\n",
    "        df1.loc[index, 'success'] = 1\n",
    "    else:\n",
    "        df1.loc[index, 'success'] = 0"
   ]
  },
  {
   "cell_type": "markdown",
   "metadata": {},
   "source": [
    "Farei a mesma coisa para a coluna **'status'**, sendo 1 para *status* igual a 'approved' e 0 para *status* igual a 'revision'."
   ]
  },
  {
   "cell_type": "code",
   "execution_count": 13,
   "metadata": {},
   "outputs": [],
   "source": [
    "# Substituindo valores approved e reproved\n",
    "df1['status'].replace(['approved', 'revision'], [1, 0], inplace = True)"
   ]
  },
  {
   "cell_type": "code",
   "execution_count": 14,
   "metadata": {},
   "outputs": [
    {
     "data": {
      "text/html": [
       "<div>\n",
       "<style scoped>\n",
       "    .dataframe tbody tr th:only-of-type {\n",
       "        vertical-align: middle;\n",
       "    }\n",
       "\n",
       "    .dataframe tbody tr th {\n",
       "        vertical-align: top;\n",
       "    }\n",
       "\n",
       "    .dataframe thead th {\n",
       "        text-align: right;\n",
       "    }\n",
       "</style>\n",
       "<table border=\"1\" class=\"dataframe\">\n",
       "  <thead>\n",
       "    <tr style=\"text-align: right;\">\n",
       "      <th></th>\n",
       "      <th>Pred_class</th>\n",
       "      <th>probabilidade</th>\n",
       "      <th>status</th>\n",
       "      <th>True_class</th>\n",
       "      <th>success</th>\n",
       "    </tr>\n",
       "  </thead>\n",
       "  <tbody>\n",
       "    <tr>\n",
       "      <th>0</th>\n",
       "      <td>2</td>\n",
       "      <td>0.079892</td>\n",
       "      <td>1</td>\n",
       "      <td>0</td>\n",
       "      <td>0</td>\n",
       "    </tr>\n",
       "    <tr>\n",
       "      <th>1</th>\n",
       "      <td>2</td>\n",
       "      <td>0.379377</td>\n",
       "      <td>1</td>\n",
       "      <td>74</td>\n",
       "      <td>0</td>\n",
       "    </tr>\n",
       "    <tr>\n",
       "      <th>2</th>\n",
       "      <td>2</td>\n",
       "      <td>0.379377</td>\n",
       "      <td>1</td>\n",
       "      <td>74</td>\n",
       "      <td>0</td>\n",
       "    </tr>\n",
       "    <tr>\n",
       "      <th>3</th>\n",
       "      <td>2</td>\n",
       "      <td>0.420930</td>\n",
       "      <td>1</td>\n",
       "      <td>74</td>\n",
       "      <td>0</td>\n",
       "    </tr>\n",
       "    <tr>\n",
       "      <th>4</th>\n",
       "      <td>2</td>\n",
       "      <td>0.607437</td>\n",
       "      <td>1</td>\n",
       "      <td>2</td>\n",
       "      <td>1</td>\n",
       "    </tr>\n",
       "  </tbody>\n",
       "</table>\n",
       "</div>"
      ],
      "text/plain": [
       "   Pred_class  probabilidade  status  True_class success\n",
       "0           2       0.079892       1           0       0\n",
       "1           2       0.379377       1          74       0\n",
       "2           2       0.379377       1          74       0\n",
       "3           2       0.420930       1          74       0\n",
       "4           2       0.607437       1           2       1"
      ]
     },
     "execution_count": 14,
     "metadata": {},
     "output_type": "execute_result"
    }
   ],
   "source": [
    "# Verificando dataset\n",
    "df1.head()"
   ]
  },
  {
   "cell_type": "code",
   "execution_count": 15,
   "metadata": {},
   "outputs": [
    {
     "data": {
      "image/png": "[encoded data removed]",
      "text/plain": [
       "<Figure size 432x288 with 1 Axes>"
      ]
     },
     "metadata": {},
     "output_type": "display_data"
    }
   ],
   "source": [
    "# Mostrando a porcentagem de acertos do modelo\n",
    "df1.success.value_counts().plot(kind = 'pie', autopct = '%.2f%%')\n",
    "plt.axis('equal');"
   ]
  },
  {
   "cell_type": "code",
   "execution_count": 16,
   "metadata": {},
   "outputs": [
    {
     "data": {
      "image/png": "[encoded data removed]",
      "text/plain": [
       "<Figure size 1008x432 with 1 Axes>"
      ]
     },
     "metadata": {
      "needs_background": "light"
     },
     "output_type": "display_data"
    }
   ],
   "source": [
    "# Gráfico de frequência de 'True_class'\n",
    "df1['True_class'].value_counts().plot(kind = 'bar', figsize = (14, 6));"
   ]
  },
  {
   "cell_type": "code",
   "execution_count": 17,
   "metadata": {},
   "outputs": [
    {
     "data": {
      "image/png": "[encoded data removed]",
      "text/plain": [
       "<Figure size 1008x432 with 1 Axes>"
      ]
     },
     "metadata": {
      "needs_background": "light"
     },
     "output_type": "display_data"
    }
   ],
   "source": [
    "# Gráfico de frequência de 'Pred_class'\n",
    "df1['Pred_class'].value_counts().plot(kind = 'bar', figsize = (14, 6));"
   ]
  },
  {
   "cell_type": "markdown",
   "metadata": {},
   "source": [
    "Com a análise dos gráficos acima, é possível observar que a frequência das classes do dataset obedecem uma distribuição exponencial."
   ]
  },
  {
   "cell_type": "code",
   "execution_count": 18,
   "metadata": {},
   "outputs": [
    {
     "data": {
      "image/png": "[encoded data removed]",
      "text/plain": [
       "<Figure size 864x576 with 9 Axes>"
      ]
     },
     "metadata": {
      "needs_background": "light"
     },
     "output_type": "display_data"
    }
   ],
   "source": [
    "columns = ['Pred_class', 'True_class', 'probabilidade']\n",
    "pd.plotting.scatter_matrix(df1[columns], figsize = (12, 8));"
   ]
  },
  {
   "cell_type": "markdown",
   "metadata": {},
   "source": [
    "Não é possível concluir nada com o gráfico acima, pois os pontos não apresentam nenhum padrão que possa ser análisado."
   ]
  },
  {
   "cell_type": "code",
   "execution_count": 19,
   "metadata": {},
   "outputs": [
    {
     "data": {
      "image/png": "[encoded data removed]",
      "text/plain": [
       "<Figure size 432x288 with 1 Axes>"
      ]
     },
     "metadata": {
      "needs_background": "light"
     },
     "output_type": "display_data"
    }
   ],
   "source": [
    "# Frequência da probabilidade\n",
    "sns.distplot(df1['probabilidade']);"
   ]
  },
  {
   "cell_type": "code",
   "execution_count": 58,
   "metadata": {},
   "outputs": [
    {
     "data": {
      "image/png": "[encoded data removed]",
      "text/plain": [
       "<Figure size 432x288 with 1 Axes>"
      ]
     },
     "metadata": {
      "needs_background": "light"
     },
     "output_type": "display_data"
    }
   ],
   "source": [
    "# Distribuição dos dados de probabilidade com a taxa de sucesso\n",
    "sns.stripplot(x='success', y='probabilidade', data=df1);"
   ]
  },
  {
   "cell_type": "code",
   "execution_count": 20,
   "metadata": {},
   "outputs": [
    {
     "data": {
      "image/png": "[encoded data removed]",
      "text/plain": [
       "<Figure size 576x432 with 1 Axes>"
      ]
     },
     "metadata": {
      "needs_background": "light"
     },
     "output_type": "display_data"
    }
   ],
   "source": [
    "# Boxplot da probabilidade com a taxa de sucesso\n",
    "var = 'success'\n",
    "data = pd.concat([df1['probabilidade'], df1[var]], axis = 1)\n",
    "f, ax = plt.subplots(figsize = (8, 6))\n",
    "fig = sns.boxplot(x = var, y = 'probabilidade', data = data)\n",
    "fig.axis(ymin = 0, ymax = 1);"
   ]
  },
  {
   "cell_type": "code",
   "execution_count": 21,
   "metadata": {},
   "outputs": [
    {
     "data": {
      "text/html": [
       "<div>\n",
       "<style scoped>\n",
       "    .dataframe tbody tr th:only-of-type {\n",
       "        vertical-align: middle;\n",
       "    }\n",
       "\n",
       "    .dataframe tbody tr th {\n",
       "        vertical-align: top;\n",
       "    }\n",
       "\n",
       "    .dataframe thead th {\n",
       "        text-align: right;\n",
       "    }\n",
       "</style>\n",
       "<table border=\"1\" class=\"dataframe\">\n",
       "  <thead>\n",
       "    <tr style=\"text-align: right;\">\n",
       "      <th></th>\n",
       "      <th>probabilidade</th>\n",
       "    </tr>\n",
       "    <tr>\n",
       "      <th>success</th>\n",
       "      <th></th>\n",
       "    </tr>\n",
       "  </thead>\n",
       "  <tbody>\n",
       "    <tr>\n",
       "      <th>0</th>\n",
       "      <td>0.435223</td>\n",
       "    </tr>\n",
       "    <tr>\n",
       "      <th>1</th>\n",
       "      <td>0.695781</td>\n",
       "    </tr>\n",
       "  </tbody>\n",
       "</table>\n",
       "</div>"
      ],
      "text/plain": [
       "         probabilidade\n",
       "success               \n",
       "0             0.435223\n",
       "1             0.695781"
      ]
     },
     "execution_count": 21,
     "metadata": {},
     "output_type": "execute_result"
    }
   ],
   "source": [
    "# Média das probabilidades de acerto e erro\n",
    "df1[['success', 'probabilidade']].groupby(['success']).mean()"
   ]
  },
  {
   "cell_type": "markdown",
   "metadata": {},
   "source": [
    "Analisando os gráficos, é possível ver que o dataset possui bastante valores de probabilidade na casa dos 40% e também próximo a 90%. Também, é possível verificar que as maiores probabilidades tem sucesso entre acertar a classe predita com a classe verdadeira."
   ]
  },
  {
   "cell_type": "code",
   "execution_count": 22,
   "metadata": {},
   "outputs": [
    {
     "data": {
      "image/png": "[encoded data removed]",
      "text/plain": [
       "<Figure size 432x288 with 1 Axes>"
      ]
     },
     "metadata": {
      "needs_background": "light"
     },
     "output_type": "display_data"
    }
   ],
   "source": [
    "# Gráfico de frequência de 'True_class' e 'Pred_class'\n",
    "sns.distplot(df1['Pred_class']);\n",
    "sns.distplot(df1['True_class']);"
   ]
  },
  {
   "cell_type": "markdown",
   "metadata": {},
   "source": [
    "Observando o gráfico de frequência acima, percebe-se que as classes tem aproximadamente as mesmas quantidades, sendo assim, o nível de acurácia do modelo aparenta ser razoável."
   ]
  },
  {
   "cell_type": "code",
   "execution_count": 23,
   "metadata": {},
   "outputs": [
    {
     "data": {
      "image/png": "[encoded data removed]",
      "text/plain": [
       "<Figure size 720x576 with 2 Axes>"
      ]
     },
     "metadata": {
      "needs_background": "light"
     },
     "output_type": "display_data"
    }
   ],
   "source": [
    "# Heatmap\n",
    "corrmat = df1.corr()\n",
    "f, ax = plt.subplots(figsize = (10, 8))\n",
    "sns.heatmap(corrmat, cmap = 'coolwarm', fmt = '.2f', vmax = 1, linewidths = 0.1, linecolor = 'white', annot = True);"
   ]
  },
  {
   "cell_type": "markdown",
   "metadata": {},
   "source": [
    "## 2. Calcule o desempenho do modelo de classificação utilizando pelo menos três métricas"
   ]
  },
  {
   "cell_type": "markdown",
   "metadata": {},
   "source": [
    "Métricas que serão utilizadas:\n",
    "* Acurácia;\n",
    "* Precision;\n",
    "* Recall;\n",
    "* F1-score."
   ]
  },
  {
   "cell_type": "code",
   "execution_count": 24,
   "metadata": {},
   "outputs": [],
   "source": [
    "# Importando as bibliotecas necessárias para utilização das métricas\n",
    "from sklearn.metrics import accuracy_score, confusion_matrix, precision_score, recall_score, classification_report, f1_score"
   ]
  },
  {
   "cell_type": "code",
   "execution_count": 25,
   "metadata": {},
   "outputs": [],
   "source": [
    "# Definindo as colunas target e predicted\n",
    "# cols = ['status', 'success', 'Pred_class']\n",
    "target = df1['True_class'] # y_true\n",
    "predicted = df1['Pred_class'] # y_pred"
   ]
  },
  {
   "cell_type": "markdown",
   "metadata": {},
   "source": [
    "### Acurácia"
   ]
  },
  {
   "cell_type": "code",
   "execution_count": 26,
   "metadata": {},
   "outputs": [
    {
     "name": "stdout",
     "output_type": "stream",
     "text": [
      "Acurácia:\t71.85%\n"
     ]
    }
   ],
   "source": [
    "# Calculando acurácia, apenas dividindo o numero de acertos pelo tamanho total do dataset\n",
    "acertos = (df1['Pred_class'] == df1['True_class']).sum()\n",
    "accuracy = (acertos / df1.shape[0]) * 100\n",
    "print(f'Acurácia:\\t{accuracy:.2f}%')"
   ]
  },
  {
   "cell_type": "code",
   "execution_count": 27,
   "metadata": {},
   "outputs": [
    {
     "name": "stdout",
     "output_type": "stream",
     "text": [
      "Acurácia:\t71.85%\n"
     ]
    }
   ],
   "source": [
    "# Definindo acurácia do modelo pelo método accuracy_score do sklearn\n",
    "accuracy = accuracy_score(target, predicted) * 100\n",
    "print(f'Acurácia:\\t{accuracy:.2f}%')"
   ]
  },
  {
   "cell_type": "markdown",
   "metadata": {},
   "source": [
    "### Precisão"
   ]
  },
  {
   "cell_type": "code",
   "execution_count": 28,
   "metadata": {},
   "outputs": [
    {
     "name": "stdout",
     "output_type": "stream",
     "text": [
      "Precisão:\t71.76%\n"
     ]
    }
   ],
   "source": [
    "# Definindo precisão do modelo pelo método precision_score do sklearn\n",
    "precision = precision_score(target, predicted, average = 'weighted') * 100\n",
    "print(f'Precisão:\\t{precision:.2f}%')"
   ]
  },
  {
   "cell_type": "markdown",
   "metadata": {},
   "source": [
    "### Recall"
   ]
  },
  {
   "cell_type": "code",
   "execution_count": 29,
   "metadata": {},
   "outputs": [
    {
     "name": "stdout",
     "output_type": "stream",
     "text": [
      "Recall:\t\t71.85%\n"
     ]
    }
   ],
   "source": [
    "# Definindo recall do modelo pelo método recall_score do sklearn\n",
    "recall = recall_score(target, predicted, average = 'weighted', zero_division = 'warn') * 100\n",
    "print(f'Recall:\\t\\t{recall:.2f}%')"
   ]
  },
  {
   "cell_type": "markdown",
   "metadata": {},
   "source": [
    "### F1-Score"
   ]
  },
  {
   "cell_type": "code",
   "execution_count": 30,
   "metadata": {},
   "outputs": [
    {
     "name": "stdout",
     "output_type": "stream",
     "text": [
      "F1-Score:\t70.35%\n"
     ]
    }
   ],
   "source": [
    "# Definindo f1-score do modelo pelo método f1_score do sklearn\n",
    "f1_score = f1_score(target, predicted, average = 'weighted', zero_division = 'warn') * 100\n",
    "print(f'F1-Score:\\t{f1_score:.2f}%')"
   ]
  },
  {
   "cell_type": "markdown",
   "metadata": {},
   "source": [
    "Utilizando mais métricas para a comparação."
   ]
  },
  {
   "cell_type": "code",
   "execution_count": 31,
   "metadata": {},
   "outputs": [],
   "source": [
    "from sklearn.model_selection import train_test_split, cross_val_score, KFold\n",
    "from sklearn.tree import DecisionTreeClassifier\n",
    "from sklearn.metrics import accuracy_score"
   ]
  },
  {
   "cell_type": "code",
   "execution_count": 32,
   "metadata": {},
   "outputs": [
    {
     "name": "stdout",
     "output_type": "stream",
     "text": [
      "O dataset de treino possui 450 e o de teste possui 193\n"
     ]
    }
   ],
   "source": [
    "cols = ['status', 'success', 'Pred_class']\n",
    "X = df1.drop(columns = cols, axis = 1)   #X = df1['True_class'].values.reshape(-1, 1) #df1.drop('success', axis = 1)\n",
    "y = df1['success']\n",
    "y = y.astype('int')\n",
    "\n",
    "X_train, X_test, y_train, y_test = train_test_split(X, y, test_size = 0.3)\n",
    "print(f'O dataset de treino possui {X_train.shape[0]} e o de teste possui {X_test.shape[0]}')"
   ]
  },
  {
   "cell_type": "code",
   "execution_count": 33,
   "metadata": {},
   "outputs": [
    {
     "name": "stdout",
     "output_type": "stream",
     "text": [
      "A acuracia foi de 80.83%\n"
     ]
    }
   ],
   "source": [
    "model = DecisionTreeClassifier(max_depth = 3)\n",
    "model.fit(X_train, y_train)\n",
    "predict = model.predict(X_test)\n",
    "accuracy = accuracy_score(y_test, predict) * 100\n",
    "print(f'A acuracia foi de {accuracy:.2f}%')"
   ]
  },
  {
   "cell_type": "code",
   "execution_count": 34,
   "metadata": {},
   "outputs": [
    {
     "name": "stdout",
     "output_type": "stream",
     "text": [
      "Predict   0    1  All\n",
      "Real                 \n",
      "0        13   32   45\n",
      "1         5  143  148\n",
      "All      18  175  193\n"
     ]
    }
   ],
   "source": [
    "#Calculando a matriz de confusão\n",
    "print (pd.crosstab(y_test, predict, rownames=['Real'], colnames=['Predict'], margins=True))"
   ]
  },
  {
   "cell_type": "code",
   "execution_count": 35,
   "metadata": {},
   "outputs": [
    {
     "name": "stdout",
     "output_type": "stream",
     "text": [
      "              precision    recall  f1-score   support\n",
      "\n",
      "           0       0.72      0.29      0.41        45\n",
      "           1       0.82      0.97      0.89       148\n",
      "\n",
      "    accuracy                           0.81       193\n",
      "   macro avg       0.77      0.63      0.65       193\n",
      "weighted avg       0.80      0.81      0.78       193\n",
      "\n"
     ]
    }
   ],
   "source": [
    "# Mostrando o relatório de classificação\n",
    "print(classification_report(y_test, predict))"
   ]
  },
  {
   "cell_type": "code",
   "execution_count": 36,
   "metadata": {},
   "outputs": [],
   "source": [
    "# Definindo a função de intervalo\n",
    "def intervalo(results):\n",
    "    mean = results.mean()\n",
    "    dv = results.std()\n",
    "    print(f'Acurácia média: {mean * 100:.2f}')\n",
    "    print(f'Intervalo de acurácia: [{(mean - 2 * dv) * 100:.2f}% ~ {(mean + 2 * dv) * 100:.2f}]')"
   ]
  },
  {
   "cell_type": "code",
   "execution_count": 37,
   "metadata": {},
   "outputs": [
    {
     "name": "stdout",
     "output_type": "stream",
     "text": [
      "Acurácia média: 79.10\n",
      "Intervalo de acurácia: [72.79% ~ 85.41]\n"
     ]
    }
   ],
   "source": [
    "# Utilizando método KFold\n",
    "cv = KFold(n_splits = 7, shuffle = True)\n",
    "\n",
    "model = DecisionTreeClassifier(max_depth = 3)\n",
    "results = cross_val_score(model, X_train, y_train, cv = cv)\n",
    "\n",
    "intervalo(results)"
   ]
  },
  {
   "cell_type": "markdown",
   "metadata": {},
   "source": [
    "## 3. Crie um classificador que tenha como output se os dados com status igual a revision estão corretos ou não."
   ]
  },
  {
   "cell_type": "markdown",
   "metadata": {},
   "source": [
    "Será feito a separação dos dados que foram aprovados dos dados que estão em revisão."
   ]
  },
  {
   "cell_type": "markdown",
   "metadata": {},
   "source": [
    "### Separando dataset em treino e teste"
   ]
  },
  {
   "cell_type": "markdown",
   "metadata": {},
   "source": [
    "Preparando dados para treino, de acordo com os dados que foram aprovados."
   ]
  },
  {
   "cell_type": "code",
   "execution_count": 38,
   "metadata": {},
   "outputs": [],
   "source": [
    "# Separando em dois datasets, os que foram aprovados e os que estão em revisão\n",
    "df1_approved = df1[df1['status'] == 1] # treino\n",
    "df1_revision = df1[df1['status'] == 0] # teste"
   ]
  },
  {
   "cell_type": "code",
   "execution_count": 39,
   "metadata": {},
   "outputs": [
    {
     "data": {
      "text/html": [
       "<div>\n",
       "<style scoped>\n",
       "    .dataframe tbody tr th:only-of-type {\n",
       "        vertical-align: middle;\n",
       "    }\n",
       "\n",
       "    .dataframe tbody tr th {\n",
       "        vertical-align: top;\n",
       "    }\n",
       "\n",
       "    .dataframe thead th {\n",
       "        text-align: right;\n",
       "    }\n",
       "</style>\n",
       "<table border=\"1\" class=\"dataframe\">\n",
       "  <thead>\n",
       "    <tr style=\"text-align: right;\">\n",
       "      <th></th>\n",
       "      <th>Pred_class</th>\n",
       "      <th>probabilidade</th>\n",
       "      <th>status</th>\n",
       "      <th>True_class</th>\n",
       "      <th>success</th>\n",
       "    </tr>\n",
       "  </thead>\n",
       "  <tbody>\n",
       "    <tr>\n",
       "      <th>0</th>\n",
       "      <td>2</td>\n",
       "      <td>0.079892</td>\n",
       "      <td>1</td>\n",
       "      <td>0</td>\n",
       "      <td>0</td>\n",
       "    </tr>\n",
       "    <tr>\n",
       "      <th>1</th>\n",
       "      <td>2</td>\n",
       "      <td>0.379377</td>\n",
       "      <td>1</td>\n",
       "      <td>74</td>\n",
       "      <td>0</td>\n",
       "    </tr>\n",
       "    <tr>\n",
       "      <th>2</th>\n",
       "      <td>2</td>\n",
       "      <td>0.379377</td>\n",
       "      <td>1</td>\n",
       "      <td>74</td>\n",
       "      <td>0</td>\n",
       "    </tr>\n",
       "    <tr>\n",
       "      <th>3</th>\n",
       "      <td>2</td>\n",
       "      <td>0.420930</td>\n",
       "      <td>1</td>\n",
       "      <td>74</td>\n",
       "      <td>0</td>\n",
       "    </tr>\n",
       "    <tr>\n",
       "      <th>4</th>\n",
       "      <td>2</td>\n",
       "      <td>0.607437</td>\n",
       "      <td>1</td>\n",
       "      <td>2</td>\n",
       "      <td>1</td>\n",
       "    </tr>\n",
       "  </tbody>\n",
       "</table>\n",
       "</div>"
      ],
      "text/plain": [
       "   Pred_class  probabilidade  status  True_class success\n",
       "0           2       0.079892       1           0       0\n",
       "1           2       0.379377       1          74       0\n",
       "2           2       0.379377       1          74       0\n",
       "3           2       0.420930       1          74       0\n",
       "4           2       0.607437       1           2       1"
      ]
     },
     "execution_count": 39,
     "metadata": {},
     "output_type": "execute_result"
    }
   ],
   "source": [
    "# Verificando se o dataset foi carregado\n",
    "df1_approved.head()"
   ]
  },
  {
   "cell_type": "code",
   "execution_count": 40,
   "metadata": {},
   "outputs": [],
   "source": [
    "# Separando a variável target de treino\n",
    "X_train = df1_approved['True_class'].values.reshape(-1, 1)\n",
    "y_train = df1_approved['Pred_class']"
   ]
  },
  {
   "cell_type": "code",
   "execution_count": 41,
   "metadata": {},
   "outputs": [
    {
     "name": "stdout",
     "output_type": "stream",
     "text": [
      "Treino 1:\n",
      "  Acurácia = 69.77%\n",
      "Treino 2:\n",
      "  Acurácia = 69.77%\n",
      "Treino 3:\n",
      "  Acurácia = 72.09%\n",
      "Treino 4:\n",
      "  Acurácia = 69.77%\n",
      "Treino 5:\n",
      "  Acurácia = 68.60%\n",
      "Treino 6:\n",
      "  Acurácia = 63.53%\n",
      "Treino 7:\n",
      "  Acurácia = 57.65%\n",
      "Média: 67.31\n"
     ]
    }
   ],
   "source": [
    "# Aplicando o metódo KFold\n",
    "cv = KFold(n_splits = 7, shuffle = True)\n",
    "model = DecisionTreeClassifier(random_state = 2)\n",
    "accuracy_scores = []\n",
    "\n",
    "for train, test in cv.split(np.array(df1_approved)):\n",
    "    model.fit(X_train[train], y_train[train])\n",
    "    predict = model.predict(X_train[test])\n",
    "    accuracy_scores.append(accuracy_score(predict, y_train[test]) * 100)\n",
    "\n",
    "for i in range(len(accuracy_scores)):\n",
    "    print(f'Treino {i + 1}:\\n  Acurácia = {accuracy_scores[i]:.2f}%')\n",
    "    \n",
    "print(f'Média: {np.mean(accuracy_scores):.2f}')"
   ]
  },
  {
   "cell_type": "code",
   "execution_count": 42,
   "metadata": {},
   "outputs": [],
   "source": [
    "# Definindo as variáveis de teste\n",
    "X_test = df1_revision['True_class'].values.reshape(-1, 1)\n",
    "y_test = df1_revision['Pred_class']"
   ]
  },
  {
   "cell_type": "code",
   "execution_count": 43,
   "metadata": {},
   "outputs": [
    {
     "name": "stdout",
     "output_type": "stream",
     "text": [
      "[  2  24  24  25  25  25  32  55  77  77  60 115  11  24  60   2   3   4\n",
      "  22  24  39  39  43  60  11  96 112   2   3   3   4   4  12  17  24  39\n",
      "  43  55  60  60  77  85  96]\n"
     ]
    }
   ],
   "source": [
    "# Mostrando as predições do modelo\n",
    "predict = model.predict(X_test)\n",
    "print(predict)"
   ]
  },
  {
   "cell_type": "code",
   "execution_count": 44,
   "metadata": {},
   "outputs": [],
   "source": [
    "# Definindo indexação\n",
    "y_test.index = range(len(y_test))"
   ]
  },
  {
   "cell_type": "code",
   "execution_count": 45,
   "metadata": {},
   "outputs": [
    {
     "name": "stdout",
     "output_type": "stream",
     "text": [
      "True_class\tPred_class\n",
      "2\t\t2\t-> approved\n",
      "24\t\t24\t-> approved\n",
      "24\t\t24\t-> approved\n",
      "25\t\t25\t-> approved\n",
      "25\t\t25\t-> approved\n",
      "25\t\t25\t-> approved\n",
      "32\t\t32\t-> approved\n",
      "55\t\t55\t-> approved\n",
      "77\t\t77\t-> approved\n",
      "77\t\t77\t-> approved\n",
      "86\t\t60\t-> reproved\n",
      "114\t\t115\t-> reproved\n",
      "11\t\t11\t-> approved\n",
      "24\t\t24\t-> approved\n",
      "60\t\t60\t-> approved\n",
      "2\t\t2\t-> approved\n",
      "3\t\t3\t-> approved\n",
      "4\t\t4\t-> approved\n",
      "22\t\t22\t-> approved\n",
      "24\t\t24\t-> approved\n",
      "39\t\t39\t-> approved\n",
      "39\t\t39\t-> approved\n",
      "43\t\t43\t-> approved\n",
      "60\t\t60\t-> approved\n",
      "81\t\t11\t-> reproved\n",
      "96\t\t96\t-> approved\n",
      "113\t\t112\t-> reproved\n",
      "2\t\t2\t-> approved\n",
      "3\t\t3\t-> approved\n",
      "3\t\t3\t-> approved\n",
      "4\t\t4\t-> approved\n",
      "4\t\t4\t-> approved\n",
      "12\t\t12\t-> approved\n",
      "17\t\t17\t-> approved\n",
      "24\t\t24\t-> approved\n",
      "36\t\t39\t-> reproved\n",
      "43\t\t43\t-> approved\n",
      "55\t\t55\t-> approved\n",
      "60\t\t60\t-> approved\n",
      "60\t\t60\t-> approved\n",
      "77\t\t77\t-> approved\n",
      "84\t\t85\t-> reproved\n",
      "96\t\t96\t-> approved\n"
     ]
    }
   ],
   "source": [
    "# Plotando os valores preditos pelo modelo em revision\n",
    "print('True_class\\tPred_class')\n",
    "for i in range(len(predict)):\n",
    "    if np.array(y_test == predict)[i]:\n",
    "        print(f'{y_test[i]}\\t\\t{predict[i]}\\t-> approved')\n",
    "    else:\n",
    "        print(f'{y_test[i]}\\t\\t{predict[i]}\\t-> reproved')"
   ]
  },
  {
   "cell_type": "code",
   "execution_count": 46,
   "metadata": {},
   "outputs": [
    {
     "name": "stdout",
     "output_type": "stream",
     "text": [
      "Aprovado:\t37\n",
      "Reprovado:\t6\n",
      "Acurácia:\t86.05%\n"
     ]
    }
   ],
   "source": [
    "# Verificando os valores de revision\n",
    "scores_model = np.where(predict == y_test, 1, 0)\n",
    "\n",
    "approved = scores_model.sum()\n",
    "reproved = len(scores_model) - approved\n",
    "accuracy = approved * 100 / (approved + reproved)\n",
    "\n",
    "print(f'Aprovado:\\t{approved}')\n",
    "print(f'Reprovado:\\t{reproved}')\n",
    "print(f'Acurácia:\\t{accuracy:.2f}%')"
   ]
  },
  {
   "cell_type": "markdown",
   "metadata": {},
   "source": [
    "É possível notar que a acurácia média para os dados de teste, foi melhor do que a do modelo."
   ]
  },
  {
   "cell_type": "markdown",
   "metadata": {},
   "source": [
    "## 4. Compare três métricas de avaliação aplicadas ao modelo e descreva sobre a diferença."
   ]
  },
  {
   "cell_type": "markdown",
   "metadata": {},
   "source": [
    "* **Acurácia**<br>\n",
    "    É a media global de acerto do modelo ao classificar classes.\n",
    "\n",
    "* **Precisão**<br>\n",
    "    Pode-se definir a precisão de um modelo de Machine Learning como a proporção de predições corretas de uma categoria em relação a todas as previsões feitas dessa categoria. As previsões corretas da categoria alvo são chamadas de Verdadeiros Positivos (true positive — TP), e as previsões incorretas para a categoria alvo são chamada de Falsos Positivos (false positive — FP). No nosso caso, um verdadeiro positivo é uma situção onde o modelo previu que tinha acertado a classe e ele realmente tinha, enquando um falso positivo é uma situação onde o modelo previu que tinha acertado a classe mas na verdade não acertou.\n",
    "    \n",
    "* **Recall**<br>\n",
    "    A medida de recall de um modelo de Machine Learning é definido como a proporção de previsões corretas da categoria alvo, Verdadeiros Positivos em relação a soma dos verdadeiros positivos com os Falsos Negativos (false negativo — FN). Falsos negativos são os casos da categoria alvo que seu modelo previu como se fosse da categoria 0.\n",
    "    \n",
    "* **F1-Score**<br>\n",
    "    É classificado como duas vezes a média harmônica entre R e P, ou seja, um meio termo entre as duas métricas anteriores."
   ]
  },
  {
   "cell_type": "markdown",
   "metadata": {},
   "source": [
    "## 5. Crie um classificador, a partir da segunda aba - NLP do arquivo de dados, que permita identificar qual trecho de música corresponde às respectivas artistas listadas"
   ]
  },
  {
   "cell_type": "code",
   "execution_count": 47,
   "metadata": {},
   "outputs": [],
   "source": [
    "# Importando as bibliotecas necessárias\n",
    "import numpy as np\n",
    "import pandas as pd\n",
    "from sklearn.model_selection import cross_val_score\n",
    "from sklearn.naive_bayes import MultinomialNB\n",
    "from sklearn.feature_extraction.text import CountVectorizer\n",
    "from sklearn.model_selection import train_test_split"
   ]
  },
  {
   "cell_type": "code",
   "execution_count": 48,
   "metadata": {},
   "outputs": [],
   "source": [
    "# Carregando o dataset no notebook\n",
    "df2 = pd.read_excel(xls, sheet_name='NLP')"
   ]
  },
  {
   "cell_type": "code",
   "execution_count": 49,
   "metadata": {},
   "outputs": [
    {
     "data": {
      "text/html": [
       "<div>\n",
       "<style scoped>\n",
       "    .dataframe tbody tr th:only-of-type {\n",
       "        vertical-align: middle;\n",
       "    }\n",
       "\n",
       "    .dataframe tbody tr th {\n",
       "        vertical-align: top;\n",
       "    }\n",
       "\n",
       "    .dataframe thead th {\n",
       "        text-align: right;\n",
       "    }\n",
       "</style>\n",
       "<table border=\"1\" class=\"dataframe\">\n",
       "  <thead>\n",
       "    <tr style=\"text-align: right;\">\n",
       "      <th></th>\n",
       "      <th>letra</th>\n",
       "      <th>artista</th>\n",
       "    </tr>\n",
       "  </thead>\n",
       "  <tbody>\n",
       "    <tr>\n",
       "      <th>0</th>\n",
       "      <td>Jay-z Uh-uh-uh You ready b? Let's go get 'em. ...</td>\n",
       "      <td>Beyoncé</td>\n",
       "    </tr>\n",
       "    <tr>\n",
       "      <th>1</th>\n",
       "      <td>Your challengers are a young group from Housto...</td>\n",
       "      <td>Beyoncé</td>\n",
       "    </tr>\n",
       "    <tr>\n",
       "      <th>2</th>\n",
       "      <td>Dum-da-de-da Do, do, do, do, do, do (Coming do...</td>\n",
       "      <td>Beyoncé</td>\n",
       "    </tr>\n",
       "    <tr>\n",
       "      <th>3</th>\n",
       "      <td>If I ain't got nothing I got you If I ain't go...</td>\n",
       "      <td>Beyoncé</td>\n",
       "    </tr>\n",
       "    <tr>\n",
       "      <th>4</th>\n",
       "      <td>Six inch heels She walked in the club like nob...</td>\n",
       "      <td>Beyoncé</td>\n",
       "    </tr>\n",
       "  </tbody>\n",
       "</table>\n",
       "</div>"
      ],
      "text/plain": [
       "                                               letra  artista\n",
       "0  Jay-z Uh-uh-uh You ready b? Let's go get 'em. ...  Beyoncé\n",
       "1  Your challengers are a young group from Housto...  Beyoncé\n",
       "2  Dum-da-de-da Do, do, do, do, do, do (Coming do...  Beyoncé\n",
       "3  If I ain't got nothing I got you If I ain't go...  Beyoncé\n",
       "4  Six inch heels She walked in the club like nob...  Beyoncé"
      ]
     },
     "execution_count": 49,
     "metadata": {},
     "output_type": "execute_result"
    }
   ],
   "source": [
    "# Verificando se o dataset foi carregado corretamente\n",
    "df2.head()"
   ]
  },
  {
   "cell_type": "code",
   "execution_count": 50,
   "metadata": {},
   "outputs": [
    {
     "data": {
      "text/plain": [
       "Beyoncé    274\n",
       "Rihanna    244\n",
       "Name: artista, dtype: int64"
      ]
     },
     "execution_count": 50,
     "metadata": {},
     "output_type": "execute_result"
    }
   ],
   "source": [
    "# Verificando os dados da coluna artista\n",
    "df2['artista'].value_counts()"
   ]
  },
  {
   "cell_type": "code",
   "execution_count": 51,
   "metadata": {},
   "outputs": [],
   "source": [
    "# Criando uma coluna com id para cada artista\n",
    "df2['artist_id'] = df2['artista'].replace(['Beyoncé', 'Rihanna'], [1, 0])"
   ]
  },
  {
   "cell_type": "code",
   "execution_count": 52,
   "metadata": {},
   "outputs": [],
   "source": [
    "# Dividindo o dataset\n",
    "X = df2['letra']\n",
    "y = df2['artist_id'] # target\n",
    "X_train, X_test, y_train, y_test = train_test_split(X, y, test_size = 0.3, random_state = 0)"
   ]
  },
  {
   "cell_type": "code",
   "execution_count": 53,
   "metadata": {},
   "outputs": [],
   "source": [
    "# Transformando as palavras para ficar contidas em vetores\n",
    "vectorizer = CountVectorizer(analyzer = 'word')\n",
    "X_train = vectorizer.fit_transform(X_train)\n",
    "X_test = vectorizer.transform(X_test)"
   ]
  },
  {
   "cell_type": "code",
   "execution_count": 54,
   "metadata": {},
   "outputs": [
    {
     "name": "stdout",
     "output_type": "stream",
     "text": [
      "[1 1 1 0 1 1 1 1 1 1 0 0 1 0 1 0 0 1 1 0 1 1 0 0 1 0 1 0 0 0 0 0 0 1 0 1 1\n",
      " 1 0 0 0 0 0 0 0 1 1 0 0 1 0 0 0 0 0 1 1 0 0 1 0 0 1 0 1 0 1 1 1 0 0 0 0 0\n",
      " 0 0 0 0 1 0 1 1 0 1 0 0 0 0 0 0 1 1 1 1 0 1 0 0 1 1 0 1 1 1 1 1 1 1 1 0 0\n",
      " 1 1 1 1 0 0 0 0 1 0 1 0 1 1 1 0 1 1 0 1 0 0 1 0 1 1 0 0 0 0 0 0 0 0 1 1 1\n",
      " 1 0 1 1 1 0 0 1]\n"
     ]
    }
   ],
   "source": [
    "# Aplicando o modelo\n",
    "model = MultinomialNB()\n",
    "model.fit(X_train, y_train)\n",
    "result = model.predict(X_test)\n",
    "print(result)"
   ]
  },
  {
   "cell_type": "code",
   "execution_count": 55,
   "metadata": {},
   "outputs": [
    {
     "name": "stdout",
     "output_type": "stream",
     "text": [
      "Acurácia: 71.79%\n"
     ]
    }
   ],
   "source": [
    "# Acurácia do modelo\n",
    "accuracy = accuracy_score(result, y_test) * 100\n",
    "print(f'Acurácia: {accuracy:.2f}%')"
   ]
  }
 ],
 "metadata": {
  "kernelspec": {
   "display_name": "Python 3",
   "language": "python",
   "name": "python3"
  },
  "language_info": {
   "codemirror_mode": {
    "name": "ipython",
    "version": 3
   },
   "file_extension": ".py",
   "mimetype": "text/x-python",
   "name": "python",
   "nbconvert_exporter": "python",
   "pygments_lexer": "ipython3",
   "version": "3.8.5"
  }
 },
 "nbformat": 4,
 "nbformat_minor": 4
}
